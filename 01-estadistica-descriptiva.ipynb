{
 "cells": [
  {
   "cell_type": "markdown",
   "metadata": {},
   "source": [
    "## Conceptos basicos:\n",
    "\n",
    "Muestra\n",
    "\n",
    "Estadistica descriptiva\n",
    "\n",
    "Frecuencias absoluta y relativa\n",
    "\n",
    "Diagrama de barras\n",
    "\n",
    "Diagrama de tallo y hojas (p 5 / 29)\n",
    "\n",
    "Histograma\n",
    "\n",
    "* pregunta para los alumnos: diferencia entre diagrama de barras e histograma?\n",
    "    \n",
    "* Regla Sturges para elegir el numero de clases: c numero de clases, M tamanio muestra.\n",
    "$$c =  1 + log_2 M$$\n",
    "\n",
    "* Alternativa: regla de Freedman-Diaconis (h = class width)\n",
    "$$h = 2 \\frac{IQR(x)}{\\sqrt[3]{n}}$$\n",
    "\n",
    "Variables continuas y variables discretas\n"
   ]
  },
  {
   "cell_type": "markdown",
   "metadata": {},
   "source": [
    "## Medidas de centralidad y dispersion"
   ]
  },
  {
   "cell_type": "markdown",
   "metadata": {},
   "source": [
    "### Medidas de centralidad:\n",
    "\n",
    "La media de una muestra se define como:\n",
    "\n",
    "$$\\bar{x} = \\frac{\\sum_{i=1}^{n}x_1}{n}$$\n",
    "\n",
    "Mediana de una muestra.\n"
   ]
  },
  {
   "cell_type": "markdown",
   "metadata": {},
   "source": [
    "### Medidas de dispersion:\n",
    "\n",
    "Varianza\n",
    "\n",
    "$$v_x = \\frac{\\sum_{i=1}^{n}(x_i - \\bar{x}^2)}{n}$$\n",
    "\n",
    "Otra definicion:\n",
    "\n",
    "$$v_x = \\frac{1}{n}\\frac{\\sum_{i=1}^{n}x_i^2}{n}-\\bar{x}^2$$"
   ]
  },
  {
   "cell_type": "markdown",
   "metadata": {},
   "source": [
    "\n",
    "**Ejercicio**: Demostrar que la formula:\n",
    "\n",
    "$$v_x = \\frac{\\sum_{i=1}^{n}(x_i - \\bar{x}^2)}{n}$$\n",
    "\n",
    "es equivalente a:\n",
    "\n",
    "$$v_x = \\frac{1}{n}\\frac{\\sum_{i=1}^{n}x_i^2}{n}-\\bar{x}^2$$"
   ]
  },
  {
   "cell_type": "markdown",
   "metadata": {},
   "source": [
    "## Regresion Lineal\n",
    "\n"
   ]
  },
  {
   "cell_type": "markdown",
   "metadata": {},
   "source": [
    "Dadas las variables X e Y, consiste en encontrar una recta \n",
    "\n",
    "$$y(x) = a + bx$$\n",
    "\n",
    "tal que el a y b elegidos minimicen la funcion\n",
    "\n",
    "$$f(u,v) = \\frac{1}{n}\\sum_{i=1}^{n}(y_i - u -vx_i)^2$$"
   ]
  },
  {
   "cell_type": "markdown",
   "metadata": {},
   "source": [
    "### Covarianza\n",
    "\n",
    "Es una medida de la manera en que dos variables X e Y varian conjuntamente. \n",
    "\n",
    "$$cov_{x,y} = \\frac{1}{n}\\sum_{i=1}^{n}(x_i - \\bar{x})(y_i - \\bar{y})$$\n",
    "\n",
    "o tambien:\n",
    "\n",
    "\n",
    "$$cov_{x,y} = \\frac{1}{n}\\sum_{i=1}^{n}x_iy_i - \\bar{x}\\bar{y}$$"
   ]
  },
  {
   "cell_type": "markdown",
   "metadata": {},
   "source": [
    "**Ejercicio**: demostrar que las formula \n",
    "\n",
    "$$cov_{x,y} = \\frac{1}{n}\\sum_{i=1}^{n}(x_i - \\bar{x})(y_i - \\bar{y})$$\n",
    "\n",
    "es equivalente a:\n",
    "\n",
    "$$cov_{x,y} = \\frac{1}{n}\\sum_{i=1}^{n}x_iy_i - \\bar{x}\\bar{y}$$"
   ]
  },
  {
   "cell_type": "markdown",
   "metadata": {},
   "source": [
    "#### Recta de regresion en funcion de la covarianza:\n",
    "\n",
    "* ! Pedirle a Isra que me explique esto (en particular, el \"haciendo algunos calculos\" del pdf):\n",
    "\n",
    "$$y = \\bar{y} - \\frac{cov_{x,y}}{v_x}\\bar{x} + \\frac{cov_{x,y}}{v_x}x$$"
   ]
  },
  {
   "cell_type": "markdown",
   "metadata": {},
   "source": [
    "### Coeficiente de correlacion\n",
    "\n",
    "Error o varianza residual:\n",
    "\n",
    "$$E = \\frac{1}{n}\\sum_{i=1}^{n}(y_i - y(x_i))^2 = \n",
    "\\frac{1}{n}\\sum_{i=1}^{n}(y_i - a -bx_i)^2 =\n",
    "v_y(1 - \\frac{cov_{x,y}^2}{v_xv_y})$$\n",
    "\n",
    "* ! again preguntarle a Isra que me explique este ultimo salto\n",
    "\n",
    "El termino $\\frac{cov_{x,y}^2}{v_xv_y}$ siempre esta entre 0 y 1, y por tanto podemos definir r:\n",
    "\n",
    "$$r = \\frac{cov_{x,y}}{\\sqrt{v_x v_y}}$$\n",
    "\n",
    "que esta entre -1 y 1\n",
    "\n",
    "$$E = V_y(1 - r^2)$$\n"
   ]
  }
 ],
 "metadata": {
  "kernelspec": {
   "display_name": "Python 2",
   "language": "python",
   "name": "python2"
  },
  "language_info": {
   "codemirror_mode": {
    "name": "ipython",
    "version": 2
   },
   "file_extension": ".py",
   "mimetype": "text/x-python",
   "name": "python",
   "nbconvert_exporter": "python",
   "pygments_lexer": "ipython2",
   "version": "2.7.10"
  }
 },
 "nbformat": 4,
 "nbformat_minor": 1
}
