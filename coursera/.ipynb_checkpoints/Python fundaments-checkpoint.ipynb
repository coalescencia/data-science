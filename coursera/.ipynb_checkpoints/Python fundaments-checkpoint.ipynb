{
 "cells": [
  {
   "cell_type": "markdown",
   "metadata": {},
   "source": [
    "# Python:"
   ]
  },
  {
   "cell_type": "markdown",
   "metadata": {},
   "source": [
    "## Functions"
   ]
  },
  {
   "cell_type": "code",
   "execution_count": 2,
   "metadata": {},
   "outputs": [
    {
     "data": {
      "text/plain": [
       "8"
      ]
     },
     "execution_count": 2,
     "metadata": {},
     "output_type": "execute_result"
    }
   ],
   "source": [
    "def sumar(x,y):\n",
    "    return x + y\n",
    "\n",
    "sumar (3,5)\n"
   ]
  },
  {
   "cell_type": "code",
   "execution_count": 7,
   "metadata": {},
   "outputs": [
    {
     "name": "stdout",
     "output_type": "stream",
     "text": [
      "9\n",
      "12\n",
      "flag es True\n",
      "10\n"
     ]
    }
   ],
   "source": [
    "# parámetros opcionales\n",
    "\n",
    "def sumar (x,y, z=None, flag=False):\n",
    "    if(flag):\n",
    "        print(\"flag es True\")\n",
    "    if(z==None):\n",
    "        return x + y\n",
    "    else:\n",
    "        return x + y + z\n",
    "\n",
    "print(sumar (3,6))\n",
    "print(sumar(3,4,5))\n",
    "print(sumar(2,7,1, True))"
   ]
  },
  {
   "cell_type": "code",
   "execution_count": 9,
   "metadata": {},
   "outputs": [
    {
     "data": {
      "text/plain": [
       "11"
      ]
     },
     "execution_count": 9,
     "metadata": {},
     "output_type": "execute_result"
    }
   ],
   "source": [
    "#asignación de una función a una variable\n",
    "\n",
    "def sumar(x,y):\n",
    "    return x + y\n",
    "\n",
    "a = sumar\n",
    "a(5,6)"
   ]
  },
  {
   "cell_type": "code",
   "execution_count": 5,
   "metadata": {},
   "outputs": [
    {
     "name": "stdout",
     "output_type": "stream",
     "text": [
      "12\n"
     ]
    }
   ],
   "source": []
  },
  {
   "cell_type": "markdown",
   "metadata": {},
   "source": [
    "## Tipos y secuencias"
   ]
  },
  {
   "cell_type": "code",
   "execution_count": 11,
   "metadata": {},
   "outputs": [
    {
     "data": {
      "text/plain": [
       "str"
      ]
     },
     "execution_count": 11,
     "metadata": {},
     "output_type": "execute_result"
    }
   ],
   "source": [
    "type('esto es una cadena')"
   ]
  },
  {
   "cell_type": "code",
   "execution_count": 12,
   "metadata": {},
   "outputs": [
    {
     "data": {
      "text/plain": [
       "NoneType"
      ]
     },
     "execution_count": 12,
     "metadata": {},
     "output_type": "execute_result"
    }
   ],
   "source": [
    "type(None)"
   ]
  },
  {
   "cell_type": "code",
   "execution_count": 15,
   "metadata": {},
   "outputs": [
    {
     "data": {
      "text/plain": [
       "int"
      ]
     },
     "execution_count": 15,
     "metadata": {},
     "output_type": "execute_result"
    }
   ],
   "source": [
    "type(8)\n"
   ]
  },
  {
   "cell_type": "code",
   "execution_count": 14,
   "metadata": {},
   "outputs": [
    {
     "data": {
      "text/plain": [
       "float"
      ]
     },
     "execution_count": 14,
     "metadata": {},
     "output_type": "execute_result"
    }
   ],
   "source": [
    "type(8.0)"
   ]
  },
  {
   "cell_type": "code",
   "execution_count": 16,
   "metadata": {},
   "outputs": [
    {
     "data": {
      "text/plain": [
       "function"
      ]
     },
     "execution_count": 16,
     "metadata": {},
     "output_type": "execute_result"
    }
   ],
   "source": [
    "type(sumar)"
   ]
  },
  {
   "cell_type": "code",
   "execution_count": 19,
   "metadata": {},
   "outputs": [
    {
     "name": "stdout",
     "output_type": "stream",
     "text": [
      "(4, 'hola', 'g', 5.0)\n"
     ]
    },
    {
     "data": {
      "text/plain": [
       "tuple"
      ]
     },
     "execution_count": 19,
     "metadata": {},
     "output_type": "execute_result"
    }
   ],
   "source": [
    "# tuplas son estructuras de datos inmutables, NO PUEDEN ser alteradas\n",
    "\n",
    "x = (4, 'hola', 'g', 5.0)\n",
    "print(x)\n",
    "type(x)\n",
    "\n"
   ]
  },
  {
   "cell_type": "code",
   "execution_count": 23,
   "metadata": {},
   "outputs": [
    {
     "name": "stdout",
     "output_type": "stream",
     "text": [
      "[4, 'hola', 4.5, 'j']\n",
      "[4, 'hola', 4.5, 'j', 32]\n"
     ]
    },
    {
     "data": {
      "text/plain": [
       "list"
      ]
     },
     "execution_count": 23,
     "metadata": {},
     "output_type": "execute_result"
    }
   ],
   "source": [
    "# las listas son estructuras mutables PUEDEN ser alteradas\n",
    "\n",
    "y = [4, 'hola', 4.5, 'j']\n",
    "print(y)\n",
    "y.append(32)\n",
    "print(y)\n",
    "type(y)\n"
   ]
  },
  {
   "cell_type": "code",
   "execution_count": 24,
   "metadata": {},
   "outputs": [
    {
     "name": "stdout",
     "output_type": "stream",
     "text": [
      "4\n",
      "hola\n",
      "4.5\n",
      "j\n",
      "32\n"
     ]
    }
   ],
   "source": [
    "# iterar en una lista\n",
    "\n",
    "for item in y:\n",
    "    print(item)"
   ]
  },
  {
   "cell_type": "code",
   "execution_count": 28,
   "metadata": {},
   "outputs": [
    {
     "name": "stdout",
     "output_type": "stream",
     "text": [
      "4\n",
      "hola\n",
      "4.5\n",
      "j\n",
      "32\n"
     ]
    }
   ],
   "source": [
    "# o utilizando el operador indexing\n",
    "\n",
    "i = 0\n",
    "while(i != len(y)):\n",
    "    print(y[i])\n",
    "    i+=1"
   ]
  },
  {
   "cell_type": "markdown",
   "metadata": {},
   "source": [
    "### operaciones con listas"
   ]
  },
  {
   "cell_type": "code",
   "execution_count": 32,
   "metadata": {},
   "outputs": [
    {
     "name": "stdout",
     "output_type": "stream",
     "text": [
      "[3, 4, 'hola', 'otra lista', 32]\n",
      "['uno', 'dos', 'uno', 'dos', 'uno', 'dos', 'uno', 'dos']\n"
     ]
    },
    {
     "data": {
      "text/plain": [
       "True"
      ]
     },
     "execution_count": 32,
     "metadata": {},
     "output_type": "execute_result"
    }
   ],
   "source": [
    "# concatenar listas\n",
    "\n",
    "lista = [3,4,'hola'] + ['otra lista', 32]\n",
    "print(lista)\n",
    "\n",
    "# repetir listas\n",
    "\n",
    "print(['uno', 'dos'] * 4)\n",
    "\n",
    "# operador in\n",
    "\n",
    "'hola' in lista\n",
    "\n"
   ]
  },
  {
   "cell_type": "markdown",
   "metadata": {},
   "source": [
    "### operaciones con cadenas y subcadenas"
   ]
  },
  {
   "cell_type": "code",
   "execution_count": 38,
   "metadata": {},
   "outputs": [
    {
     "name": "stdout",
     "output_type": "stream",
     "text": [
      "t\n",
      "es\n",
      "a\n",
      "de\n",
      "est\n",
      "a pequeña cadena\n"
     ]
    }
   ],
   "source": [
    "x = 'esto es una pequeña cadena'\n",
    "print(x[2])\n",
    "print(x[0:2])\n",
    "\n",
    "#últimos elementos de la cadena\n",
    "\n",
    "print(x[-1])\n",
    "print(x[-4:-2])\n",
    "\n",
    "# seleccionar desde -> a\n",
    "\n",
    "print(x[:3])\n",
    "print(x[10:])\n"
   ]
  },
  {
   "cell_type": "code",
   "execution_count": 45,
   "metadata": {},
   "outputs": [
    {
     "name": "stdout",
     "output_type": "stream",
     "text": [
      "Gustavo\n",
      "['Adolfo', 'Becquer']\n",
      "****************\n",
      "['esto', 'lo', 'convertimos', 'en', 'lista', 'separando', 'cada', 'palabra']\n"
     ]
    }
   ],
   "source": [
    "# operador split\n",
    "\n",
    "nombre = \"Gustavo Adolfo Becquer\".split(' ')[0] #selecciona la primera palabra\n",
    "apellidos = \"Gustavo Adolfo Becquer\".split(' ')[1:]\n",
    "print(nombre)\n",
    "print(apellidos)\n",
    "\n",
    "unaLista = 'esto lo convertimos en lista separando cada palabra'.split(' ')\n",
    "print('****************')\n",
    "print(unaLista)"
   ]
  },
  {
   "cell_type": "code",
   "execution_count": 47,
   "metadata": {},
   "outputs": [
    {
     "data": {
      "text/plain": [
       "'jvitra@gmail.com'"
      ]
     },
     "execution_count": 47,
     "metadata": {},
     "output_type": "execute_result"
    }
   ],
   "source": [
    "# diccionarios\n",
    "\n",
    "miDiccionario = {'Pepe Botella': 'pepe@gmail.com', 'Juanita Vitra': 'jvitra@gmail.com'}\n",
    "miDiccionario['Juanita Vitra']"
   ]
  },
  {
   "cell_type": "code",
   "execution_count": 51,
   "metadata": {},
   "outputs": [],
   "source": [
    "miDiccionario['Anselmo Rodriguez'] = None\n",
    "miDiccionario['Anselmo Rodriguez']"
   ]
  },
  {
   "cell_type": "code",
   "execution_count": 56,
   "metadata": {},
   "outputs": [
    {
     "name": "stdout",
     "output_type": "stream",
     "text": [
      "pepe@gmail.com\n",
      "jvitra@gmail.com\n",
      "None\n"
     ]
    }
   ],
   "source": [
    "#iterar sobre todas las llaves:\n",
    "\n",
    "for nombre in miDiccionario:\n",
    "    print(miDiccionario[nombre])"
   ]
  },
  {
   "cell_type": "code",
   "execution_count": 61,
   "metadata": {},
   "outputs": [
    {
     "name": "stdout",
     "output_type": "stream",
     "text": [
      "pepe@gmail.com\n",
      "jvitra@gmail.com\n",
      "None\n"
     ]
    }
   ],
   "source": [
    "# iterar sobre todos los valores:\n",
    "\n",
    "for nombre in miDiccionario.values():\n",
    "    print(nombre)"
   ]
  },
  {
   "cell_type": "code",
   "execution_count": 64,
   "metadata": {},
   "outputs": [
    {
     "name": "stdout",
     "output_type": "stream",
     "text": [
      "Pepe Botella\n",
      "pepe@gmail.com\n",
      "Juanita Vitra\n",
      "jvitra@gmail.com\n",
      "Anselmo Rodriguez\n",
      "None\n"
     ]
    }
   ],
   "source": [
    "# iterar sobre todos los items de la lista:\n",
    "for nombre, email in miDiccionario.items():\n",
    "    print(nombre)\n",
    "    print(email)"
   ]
  },
  {
   "cell_type": "code",
   "execution_count": 66,
   "metadata": {},
   "outputs": [
    {
     "name": "stdout",
     "output_type": "stream",
     "text": [
      "('Pepe Botella', 'pepe@gmail.com')\n",
      "pepe@gmail.com\n",
      "('Juanita Vitra', 'jvitra@gmail.com')\n",
      "jvitra@gmail.com\n",
      "('Anselmo Rodriguez', None)\n",
      "None\n"
     ]
    }
   ],
   "source": [
    "for nombre in miDiccionario.items():\n",
    "    print(nombre)\n",
    "    print(nombre[1])\n",
    "   "
   ]
  },
  {
   "cell_type": "code",
   "execution_count": 67,
   "metadata": {},
   "outputs": [
    {
     "name": "stdout",
     "output_type": "stream",
     "text": [
      "Gustavo Adolfo\n",
      "GAbecquer@gmail.com\n"
     ]
    }
   ],
   "source": [
    "# desenpaquetar una secuencia en diferentes variables\n",
    "\n",
    "datos = ('Gustavo Adolfo', 'Claudio Domínguez Bastida', 'GAbecquer@gmail.com')\n",
    "\n",
    "nombre, apellido, email = datos\n",
    "\n",
    "print(nombre)\n",
    "print(email)"
   ]
  },
  {
   "cell_type": "code",
   "execution_count": 69,
   "metadata": {},
   "outputs": [
    {
     "ename": "TypeError",
     "evalue": "must be str, not int",
     "output_type": "error",
     "traceback": [
      "\u001b[0;31m---------------------------------------------------------------------------\u001b[0m",
      "\u001b[0;31mTypeError\u001b[0m                                 Traceback (most recent call last)",
      "\u001b[0;32m<ipython-input-69-0190a9851ab5>\u001b[0m in \u001b[0;36m<module>\u001b[0;34m()\u001b[0m\n\u001b[0;32m----> 1\u001b[0;31m \u001b[0mprint\u001b[0m\u001b[0;34m(\u001b[0m\u001b[0;34m'Gustavo '\u001b[0m \u001b[0;34m+\u001b[0m \u001b[0;36m2\u001b[0m\u001b[0;34m)\u001b[0m\u001b[0;34m\u001b[0m\u001b[0m\n\u001b[0m\u001b[1;32m      2\u001b[0m \u001b[0mprint\u001b[0m\u001b[0;34m(\u001b[0m\u001b[0;34m'Gustavo '\u001b[0m \u001b[0;34m+\u001b[0m \u001b[0mstr\u001b[0m\u001b[0;34m(\u001b[0m\u001b[0;36m2\u001b[0m\u001b[0;34m)\u001b[0m\u001b[0;34m)\u001b[0m\u001b[0;34m\u001b[0m\u001b[0m\n",
      "\u001b[0;31mTypeError\u001b[0m: must be str, not int"
     ]
    }
   ],
   "source": [
    "print('Gustavo ' + 2)\n"
   ]
  },
  {
   "cell_type": "code",
   "execution_count": 70,
   "metadata": {},
   "outputs": [
    {
     "name": "stdout",
     "output_type": "stream",
     "text": [
      "Gustavo 2\n"
     ]
    }
   ],
   "source": [
    "print('Gustavo ' + str(2))"
   ]
  },
  {
   "cell_type": "code",
   "execution_count": 71,
   "metadata": {},
   "outputs": [
    {
     "name": "stdout",
     "output_type": "stream",
     "text": [
      "Gustavo compró 4 item(s) a un precio de 3.24 cada uno, por un total de  12.96\n"
     ]
    }
   ],
   "source": [
    "# formateo de texto\n",
    "\n",
    "archivo_ventas = {\n",
    "'precio': 3.24,\n",
    "'num_items': 4,\n",
    "'persona': 'Gustavo'}\n",
    "\n",
    "sales_statement = '{} compró {} item(s) a un precio de {} cada uno, por un total de  {}'\n",
    "\n",
    "print(sales_statement.format(archivo_ventas['persona'],\n",
    "                             archivo_ventas['num_items'],\n",
    "                             archivo_ventas['precio'],\n",
    "                             archivo_ventas['num_items']*archivo_ventas['precio']))"
   ]
  },
  {
   "cell_type": "code",
   "execution_count": null,
   "metadata": {
    "collapsed": true
   },
   "outputs": [],
   "source": []
  }
 ],
 "metadata": {
  "kernelspec": {
   "display_name": "Python 3",
   "language": "python",
   "name": "python3"
  },
  "language_info": {
   "codemirror_mode": {
    "name": "ipython",
    "version": 3
   },
   "file_extension": ".py",
   "mimetype": "text/x-python",
   "name": "python",
   "nbconvert_exporter": "python",
   "pygments_lexer": "ipython3",
   "version": "3.6.2"
  }
 },
 "nbformat": 4,
 "nbformat_minor": 2
}
